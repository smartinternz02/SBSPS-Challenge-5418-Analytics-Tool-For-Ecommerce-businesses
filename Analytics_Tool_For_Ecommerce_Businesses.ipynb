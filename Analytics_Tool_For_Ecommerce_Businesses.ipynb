{
  "nbformat": 4,
  "nbformat_minor": 0,
  "metadata": {
    "colab": {
      "name": "Analytics Tool For Ecommerce Businesses.ipynb",
      "provenance": [],
      "toc_visible": true,
      "mount_file_id": "1OoKpspCW8glZHT_gjonrF92B1B25Uwve",
      "authorship_tag": "ABX9TyMPrQQhr1+X/bv5Zx+GFpKk",
      "include_colab_link": true
    },
    "kernelspec": {
      "name": "python3",
      "display_name": "Python 3"
    },
    "language_info": {
      "name": "python"
    }
  },
  "cells": [
    {
      "cell_type": "markdown",
      "metadata": {
        "id": "view-in-github",
        "colab_type": "text"
      },
      "source": [
        "<a href=\"https://colab.research.google.com/github/smartinternz02/SBSPS-Challenge-5418-Analytics-Tool-For-Ecommerce-businesses/blob/main/Analytics_Tool_For_Ecommerce_Businesses.ipynb\" target=\"_parent\"><img src=\"https://colab.research.google.com/assets/colab-badge.svg\" alt=\"Open In Colab\"/></a>"
      ]
    },
    {
      "cell_type": "code",
      "metadata": {
        "id": "SivWk_kg2KrL"
      },
      "source": [
        "import numpy as np\n",
        "import pandas as pd"
      ],
      "execution_count": null,
      "outputs": []
    },
    {
      "cell_type": "code",
      "metadata": {
        "id": "F-h-uHtB2op6"
      },
      "source": [
        "import os\n",
        "for dirname, _, filenames in os.walk('/kaggle/input'):\n",
        "    for filename in filenames:\n",
        "        print(os.path.join(dirname, filename))"
      ],
      "execution_count": null,
      "outputs": []
    },
    {
      "cell_type": "code",
      "metadata": {
        "id": "LPrsEW1424V3"
      },
      "source": [
        "import pandas as pd\n",
        "import numpy as np\n",
        "import matplotlib.pyplot as plt\n",
        "import seaborn as sns\n",
        "%matplotlib inline\n",
        "import warnings\n",
        "warnings.filterwarnings('ignore')\n",
        "from sklearn.preprocessing import LabelEncoder"
      ],
      "execution_count": null,
      "outputs": []
    },
    {
      "cell_type": "code",
      "metadata": {
        "colab": {
          "base_uri": "https://localhost:8080/",
          "height": 542
        },
        "id": "x2XkTpfL29NB",
        "outputId": "49b0263d-1638-4254-fbc6-27dd7d78bf73"
      },
      "source": [
        "df=pd.read_excel('/content/US Superstore data.xls')\n",
        "df.head()"
      ],
      "execution_count": null,
      "outputs": [
        {
          "output_type": "execute_result",
          "data": {
            "text/html": [
              "<div>\n",
              "<style scoped>\n",
              "    .dataframe tbody tr th:only-of-type {\n",
              "        vertical-align: middle;\n",
              "    }\n",
              "\n",
              "    .dataframe tbody tr th {\n",
              "        vertical-align: top;\n",
              "    }\n",
              "\n",
              "    .dataframe thead th {\n",
              "        text-align: right;\n",
              "    }\n",
              "</style>\n",
              "<table border=\"1\" class=\"dataframe\">\n",
              "  <thead>\n",
              "    <tr style=\"text-align: right;\">\n",
              "      <th></th>\n",
              "      <th>Row ID</th>\n",
              "      <th>Order ID</th>\n",
              "      <th>Order Date</th>\n",
              "      <th>Ship Date</th>\n",
              "      <th>Ship Mode</th>\n",
              "      <th>Customer ID</th>\n",
              "      <th>Customer Name</th>\n",
              "      <th>Segment</th>\n",
              "      <th>Country</th>\n",
              "      <th>City</th>\n",
              "      <th>State</th>\n",
              "      <th>Postal Code</th>\n",
              "      <th>Region</th>\n",
              "      <th>Product ID</th>\n",
              "      <th>Category</th>\n",
              "      <th>Sub-Category</th>\n",
              "      <th>Product Name</th>\n",
              "      <th>Sales</th>\n",
              "      <th>Quantity</th>\n",
              "      <th>Discount</th>\n",
              "      <th>Profit</th>\n",
              "    </tr>\n",
              "  </thead>\n",
              "  <tbody>\n",
              "    <tr>\n",
              "      <th>0</th>\n",
              "      <td>1</td>\n",
              "      <td>CA-2016-152156</td>\n",
              "      <td>2016-11-08</td>\n",
              "      <td>2016-11-11</td>\n",
              "      <td>Second Class</td>\n",
              "      <td>CG-12520</td>\n",
              "      <td>Claire Gute</td>\n",
              "      <td>Consumer</td>\n",
              "      <td>United States</td>\n",
              "      <td>Henderson</td>\n",
              "      <td>Kentucky</td>\n",
              "      <td>42420</td>\n",
              "      <td>South</td>\n",
              "      <td>FUR-BO-10001798</td>\n",
              "      <td>Furniture</td>\n",
              "      <td>Bookcases</td>\n",
              "      <td>Bush Somerset Collection Bookcase</td>\n",
              "      <td>261.9600</td>\n",
              "      <td>2</td>\n",
              "      <td>0.00</td>\n",
              "      <td>41.9136</td>\n",
              "    </tr>\n",
              "    <tr>\n",
              "      <th>1</th>\n",
              "      <td>2</td>\n",
              "      <td>CA-2016-152156</td>\n",
              "      <td>2016-11-08</td>\n",
              "      <td>2016-11-11</td>\n",
              "      <td>Second Class</td>\n",
              "      <td>CG-12520</td>\n",
              "      <td>Claire Gute</td>\n",
              "      <td>Consumer</td>\n",
              "      <td>United States</td>\n",
              "      <td>Henderson</td>\n",
              "      <td>Kentucky</td>\n",
              "      <td>42420</td>\n",
              "      <td>South</td>\n",
              "      <td>FUR-CH-10000454</td>\n",
              "      <td>Furniture</td>\n",
              "      <td>Chairs</td>\n",
              "      <td>Hon Deluxe Fabric Upholstered Stacking Chairs,...</td>\n",
              "      <td>731.9400</td>\n",
              "      <td>3</td>\n",
              "      <td>0.00</td>\n",
              "      <td>219.5820</td>\n",
              "    </tr>\n",
              "    <tr>\n",
              "      <th>2</th>\n",
              "      <td>3</td>\n",
              "      <td>CA-2016-138688</td>\n",
              "      <td>2016-06-12</td>\n",
              "      <td>2016-06-16</td>\n",
              "      <td>Second Class</td>\n",
              "      <td>DV-13045</td>\n",
              "      <td>Darrin Van Huff</td>\n",
              "      <td>Corporate</td>\n",
              "      <td>United States</td>\n",
              "      <td>Los Angeles</td>\n",
              "      <td>California</td>\n",
              "      <td>90036</td>\n",
              "      <td>West</td>\n",
              "      <td>OFF-LA-10000240</td>\n",
              "      <td>Office Supplies</td>\n",
              "      <td>Labels</td>\n",
              "      <td>Self-Adhesive Address Labels for Typewriters b...</td>\n",
              "      <td>14.6200</td>\n",
              "      <td>2</td>\n",
              "      <td>0.00</td>\n",
              "      <td>6.8714</td>\n",
              "    </tr>\n",
              "    <tr>\n",
              "      <th>3</th>\n",
              "      <td>4</td>\n",
              "      <td>US-2015-108966</td>\n",
              "      <td>2015-10-11</td>\n",
              "      <td>2015-10-18</td>\n",
              "      <td>Standard Class</td>\n",
              "      <td>SO-20335</td>\n",
              "      <td>Sean O'Donnell</td>\n",
              "      <td>Consumer</td>\n",
              "      <td>United States</td>\n",
              "      <td>Fort Lauderdale</td>\n",
              "      <td>Florida</td>\n",
              "      <td>33311</td>\n",
              "      <td>South</td>\n",
              "      <td>FUR-TA-10000577</td>\n",
              "      <td>Furniture</td>\n",
              "      <td>Tables</td>\n",
              "      <td>Bretford CR4500 Series Slim Rectangular Table</td>\n",
              "      <td>957.5775</td>\n",
              "      <td>5</td>\n",
              "      <td>0.45</td>\n",
              "      <td>-383.0310</td>\n",
              "    </tr>\n",
              "    <tr>\n",
              "      <th>4</th>\n",
              "      <td>5</td>\n",
              "      <td>US-2015-108966</td>\n",
              "      <td>2015-10-11</td>\n",
              "      <td>2015-10-18</td>\n",
              "      <td>Standard Class</td>\n",
              "      <td>SO-20335</td>\n",
              "      <td>Sean O'Donnell</td>\n",
              "      <td>Consumer</td>\n",
              "      <td>United States</td>\n",
              "      <td>Fort Lauderdale</td>\n",
              "      <td>Florida</td>\n",
              "      <td>33311</td>\n",
              "      <td>South</td>\n",
              "      <td>OFF-ST-10000760</td>\n",
              "      <td>Office Supplies</td>\n",
              "      <td>Storage</td>\n",
              "      <td>Eldon Fold 'N Roll Cart System</td>\n",
              "      <td>22.3680</td>\n",
              "      <td>2</td>\n",
              "      <td>0.20</td>\n",
              "      <td>2.5164</td>\n",
              "    </tr>\n",
              "  </tbody>\n",
              "</table>\n",
              "</div>"
            ],
            "text/plain": [
              "   Row ID        Order ID Order Date  ... Quantity Discount    Profit\n",
              "0       1  CA-2016-152156 2016-11-08  ...        2     0.00   41.9136\n",
              "1       2  CA-2016-152156 2016-11-08  ...        3     0.00  219.5820\n",
              "2       3  CA-2016-138688 2016-06-12  ...        2     0.00    6.8714\n",
              "3       4  US-2015-108966 2015-10-11  ...        5     0.45 -383.0310\n",
              "4       5  US-2015-108966 2015-10-11  ...        2     0.20    2.5164\n",
              "\n",
              "[5 rows x 21 columns]"
            ]
          },
          "metadata": {
            "tags": []
          },
          "execution_count": 45
        }
      ]
    },
    {
      "cell_type": "code",
      "metadata": {
        "colab": {
          "base_uri": "https://localhost:8080/"
        },
        "id": "lpqQBUED3RBa",
        "outputId": "9e6a93bd-e380-48cb-e11a-fb797093e2e1"
      },
      "source": [
        "df.shape"
      ],
      "execution_count": null,
      "outputs": [
        {
          "output_type": "execute_result",
          "data": {
            "text/plain": [
              "(9994, 21)"
            ]
          },
          "metadata": {
            "tags": []
          },
          "execution_count": 46
        }
      ]
    },
    {
      "cell_type": "code",
      "metadata": {
        "colab": {
          "base_uri": "https://localhost:8080/"
        },
        "id": "DCYDU9C14U95",
        "outputId": "0001f6a5-ba14-46e4-e1f0-7f2c37b7530b"
      },
      "source": [
        "df.columns"
      ],
      "execution_count": null,
      "outputs": [
        {
          "output_type": "execute_result",
          "data": {
            "text/plain": [
              "Index(['Row ID', 'Order ID', 'Order Date', 'Ship Date', 'Ship Mode',\n",
              "       'Customer ID', 'Customer Name', 'Segment', 'Country', 'City', 'State',\n",
              "       'Postal Code', 'Region', 'Product ID', 'Category', 'Sub-Category',\n",
              "       'Product Name', 'Sales', 'Quantity', 'Discount', 'Profit'],\n",
              "      dtype='object')"
            ]
          },
          "metadata": {
            "tags": []
          },
          "execution_count": 47
        }
      ]
    },
    {
      "cell_type": "code",
      "metadata": {
        "colab": {
          "base_uri": "https://localhost:8080/"
        },
        "id": "RI_2Mfpy4Xm6",
        "outputId": "78fcae9c-dabc-4980-d7a0-6323b648cd88"
      },
      "source": [
        "df.dtypes"
      ],
      "execution_count": null,
      "outputs": [
        {
          "output_type": "execute_result",
          "data": {
            "text/plain": [
              "Row ID                    int64\n",
              "Order ID                 object\n",
              "Order Date       datetime64[ns]\n",
              "Ship Date        datetime64[ns]\n",
              "Ship Mode                object\n",
              "Customer ID              object\n",
              "Customer Name            object\n",
              "Segment                  object\n",
              "Country                  object\n",
              "City                     object\n",
              "State                    object\n",
              "Postal Code               int64\n",
              "Region                   object\n",
              "Product ID               object\n",
              "Category                 object\n",
              "Sub-Category             object\n",
              "Product Name             object\n",
              "Sales                   float64\n",
              "Quantity                  int64\n",
              "Discount                float64\n",
              "Profit                  float64\n",
              "dtype: object"
            ]
          },
          "metadata": {
            "tags": []
          },
          "execution_count": 48
        }
      ]
    },
    {
      "cell_type": "code",
      "metadata": {
        "colab": {
          "base_uri": "https://localhost:8080/"
        },
        "id": "wC2LcLxd4b8j",
        "outputId": "9abbadd1-6372-4b3c-98cb-d44a2303e299"
      },
      "source": [
        "df.isnull().sum()"
      ],
      "execution_count": null,
      "outputs": [
        {
          "output_type": "execute_result",
          "data": {
            "text/plain": [
              "Row ID           0\n",
              "Order ID         0\n",
              "Order Date       0\n",
              "Ship Date        0\n",
              "Ship Mode        0\n",
              "Customer ID      0\n",
              "Customer Name    0\n",
              "Segment          0\n",
              "Country          0\n",
              "City             0\n",
              "State            0\n",
              "Postal Code      0\n",
              "Region           0\n",
              "Product ID       0\n",
              "Category         0\n",
              "Sub-Category     0\n",
              "Product Name     0\n",
              "Sales            0\n",
              "Quantity         0\n",
              "Discount         0\n",
              "Profit           0\n",
              "dtype: int64"
            ]
          },
          "metadata": {
            "tags": []
          },
          "execution_count": 49
        }
      ]
    },
    {
      "cell_type": "code",
      "metadata": {
        "colab": {
          "base_uri": "https://localhost:8080/",
          "height": 542
        },
        "id": "95Macu5b4itg",
        "outputId": "0ac17685-c3be-430c-c613-b3e0e1f19ecd"
      },
      "source": [
        "df=df.drop('Row ID',axis=1)\n",
        "df.head()"
      ],
      "execution_count": null,
      "outputs": [
        {
          "output_type": "execute_result",
          "data": {
            "text/html": [
              "<div>\n",
              "<style scoped>\n",
              "    .dataframe tbody tr th:only-of-type {\n",
              "        vertical-align: middle;\n",
              "    }\n",
              "\n",
              "    .dataframe tbody tr th {\n",
              "        vertical-align: top;\n",
              "    }\n",
              "\n",
              "    .dataframe thead th {\n",
              "        text-align: right;\n",
              "    }\n",
              "</style>\n",
              "<table border=\"1\" class=\"dataframe\">\n",
              "  <thead>\n",
              "    <tr style=\"text-align: right;\">\n",
              "      <th></th>\n",
              "      <th>Order ID</th>\n",
              "      <th>Order Date</th>\n",
              "      <th>Ship Date</th>\n",
              "      <th>Ship Mode</th>\n",
              "      <th>Customer ID</th>\n",
              "      <th>Customer Name</th>\n",
              "      <th>Segment</th>\n",
              "      <th>Country</th>\n",
              "      <th>City</th>\n",
              "      <th>State</th>\n",
              "      <th>Postal Code</th>\n",
              "      <th>Region</th>\n",
              "      <th>Product ID</th>\n",
              "      <th>Category</th>\n",
              "      <th>Sub-Category</th>\n",
              "      <th>Product Name</th>\n",
              "      <th>Sales</th>\n",
              "      <th>Quantity</th>\n",
              "      <th>Discount</th>\n",
              "      <th>Profit</th>\n",
              "    </tr>\n",
              "  </thead>\n",
              "  <tbody>\n",
              "    <tr>\n",
              "      <th>0</th>\n",
              "      <td>CA-2016-152156</td>\n",
              "      <td>2016-11-08</td>\n",
              "      <td>2016-11-11</td>\n",
              "      <td>Second Class</td>\n",
              "      <td>CG-12520</td>\n",
              "      <td>Claire Gute</td>\n",
              "      <td>Consumer</td>\n",
              "      <td>United States</td>\n",
              "      <td>Henderson</td>\n",
              "      <td>Kentucky</td>\n",
              "      <td>42420</td>\n",
              "      <td>South</td>\n",
              "      <td>FUR-BO-10001798</td>\n",
              "      <td>Furniture</td>\n",
              "      <td>Bookcases</td>\n",
              "      <td>Bush Somerset Collection Bookcase</td>\n",
              "      <td>261.9600</td>\n",
              "      <td>2</td>\n",
              "      <td>0.00</td>\n",
              "      <td>41.9136</td>\n",
              "    </tr>\n",
              "    <tr>\n",
              "      <th>1</th>\n",
              "      <td>CA-2016-152156</td>\n",
              "      <td>2016-11-08</td>\n",
              "      <td>2016-11-11</td>\n",
              "      <td>Second Class</td>\n",
              "      <td>CG-12520</td>\n",
              "      <td>Claire Gute</td>\n",
              "      <td>Consumer</td>\n",
              "      <td>United States</td>\n",
              "      <td>Henderson</td>\n",
              "      <td>Kentucky</td>\n",
              "      <td>42420</td>\n",
              "      <td>South</td>\n",
              "      <td>FUR-CH-10000454</td>\n",
              "      <td>Furniture</td>\n",
              "      <td>Chairs</td>\n",
              "      <td>Hon Deluxe Fabric Upholstered Stacking Chairs,...</td>\n",
              "      <td>731.9400</td>\n",
              "      <td>3</td>\n",
              "      <td>0.00</td>\n",
              "      <td>219.5820</td>\n",
              "    </tr>\n",
              "    <tr>\n",
              "      <th>2</th>\n",
              "      <td>CA-2016-138688</td>\n",
              "      <td>2016-06-12</td>\n",
              "      <td>2016-06-16</td>\n",
              "      <td>Second Class</td>\n",
              "      <td>DV-13045</td>\n",
              "      <td>Darrin Van Huff</td>\n",
              "      <td>Corporate</td>\n",
              "      <td>United States</td>\n",
              "      <td>Los Angeles</td>\n",
              "      <td>California</td>\n",
              "      <td>90036</td>\n",
              "      <td>West</td>\n",
              "      <td>OFF-LA-10000240</td>\n",
              "      <td>Office Supplies</td>\n",
              "      <td>Labels</td>\n",
              "      <td>Self-Adhesive Address Labels for Typewriters b...</td>\n",
              "      <td>14.6200</td>\n",
              "      <td>2</td>\n",
              "      <td>0.00</td>\n",
              "      <td>6.8714</td>\n",
              "    </tr>\n",
              "    <tr>\n",
              "      <th>3</th>\n",
              "      <td>US-2015-108966</td>\n",
              "      <td>2015-10-11</td>\n",
              "      <td>2015-10-18</td>\n",
              "      <td>Standard Class</td>\n",
              "      <td>SO-20335</td>\n",
              "      <td>Sean O'Donnell</td>\n",
              "      <td>Consumer</td>\n",
              "      <td>United States</td>\n",
              "      <td>Fort Lauderdale</td>\n",
              "      <td>Florida</td>\n",
              "      <td>33311</td>\n",
              "      <td>South</td>\n",
              "      <td>FUR-TA-10000577</td>\n",
              "      <td>Furniture</td>\n",
              "      <td>Tables</td>\n",
              "      <td>Bretford CR4500 Series Slim Rectangular Table</td>\n",
              "      <td>957.5775</td>\n",
              "      <td>5</td>\n",
              "      <td>0.45</td>\n",
              "      <td>-383.0310</td>\n",
              "    </tr>\n",
              "    <tr>\n",
              "      <th>4</th>\n",
              "      <td>US-2015-108966</td>\n",
              "      <td>2015-10-11</td>\n",
              "      <td>2015-10-18</td>\n",
              "      <td>Standard Class</td>\n",
              "      <td>SO-20335</td>\n",
              "      <td>Sean O'Donnell</td>\n",
              "      <td>Consumer</td>\n",
              "      <td>United States</td>\n",
              "      <td>Fort Lauderdale</td>\n",
              "      <td>Florida</td>\n",
              "      <td>33311</td>\n",
              "      <td>South</td>\n",
              "      <td>OFF-ST-10000760</td>\n",
              "      <td>Office Supplies</td>\n",
              "      <td>Storage</td>\n",
              "      <td>Eldon Fold 'N Roll Cart System</td>\n",
              "      <td>22.3680</td>\n",
              "      <td>2</td>\n",
              "      <td>0.20</td>\n",
              "      <td>2.5164</td>\n",
              "    </tr>\n",
              "  </tbody>\n",
              "</table>\n",
              "</div>"
            ],
            "text/plain": [
              "         Order ID Order Date  Ship Date  ... Quantity Discount    Profit\n",
              "0  CA-2016-152156 2016-11-08 2016-11-11  ...        2     0.00   41.9136\n",
              "1  CA-2016-152156 2016-11-08 2016-11-11  ...        3     0.00  219.5820\n",
              "2  CA-2016-138688 2016-06-12 2016-06-16  ...        2     0.00    6.8714\n",
              "3  US-2015-108966 2015-10-11 2015-10-18  ...        5     0.45 -383.0310\n",
              "4  US-2015-108966 2015-10-11 2015-10-18  ...        2     0.20    2.5164\n",
              "\n",
              "[5 rows x 20 columns]"
            ]
          },
          "metadata": {
            "tags": []
          },
          "execution_count": 50
        }
      ]
    },
    {
      "cell_type": "code",
      "metadata": {
        "colab": {
          "base_uri": "https://localhost:8080/"
        },
        "id": "09ESsRog4zVu",
        "outputId": "6d9c4c34-f864-4db6-ec58-266a7b016738"
      },
      "source": [
        "df['Country'].value_counts()"
      ],
      "execution_count": null,
      "outputs": [
        {
          "output_type": "execute_result",
          "data": {
            "text/plain": [
              "United States    9994\n",
              "Name: Country, dtype: int64"
            ]
          },
          "metadata": {
            "tags": []
          },
          "execution_count": 51
        }
      ]
    },
    {
      "cell_type": "code",
      "metadata": {
        "colab": {
          "base_uri": "https://localhost:8080/",
          "height": 542
        },
        "id": "6BPPdgPR4_B0",
        "outputId": "b9867b44-4266-4354-d63c-02934ec982cb"
      },
      "source": [
        "df=df.drop('Country', axis=1)\n",
        "df.head()"
      ],
      "execution_count": null,
      "outputs": [
        {
          "output_type": "execute_result",
          "data": {
            "text/html": [
              "<div>\n",
              "<style scoped>\n",
              "    .dataframe tbody tr th:only-of-type {\n",
              "        vertical-align: middle;\n",
              "    }\n",
              "\n",
              "    .dataframe tbody tr th {\n",
              "        vertical-align: top;\n",
              "    }\n",
              "\n",
              "    .dataframe thead th {\n",
              "        text-align: right;\n",
              "    }\n",
              "</style>\n",
              "<table border=\"1\" class=\"dataframe\">\n",
              "  <thead>\n",
              "    <tr style=\"text-align: right;\">\n",
              "      <th></th>\n",
              "      <th>Order ID</th>\n",
              "      <th>Order Date</th>\n",
              "      <th>Ship Date</th>\n",
              "      <th>Ship Mode</th>\n",
              "      <th>Customer ID</th>\n",
              "      <th>Customer Name</th>\n",
              "      <th>Segment</th>\n",
              "      <th>City</th>\n",
              "      <th>State</th>\n",
              "      <th>Postal Code</th>\n",
              "      <th>Region</th>\n",
              "      <th>Product ID</th>\n",
              "      <th>Category</th>\n",
              "      <th>Sub-Category</th>\n",
              "      <th>Product Name</th>\n",
              "      <th>Sales</th>\n",
              "      <th>Quantity</th>\n",
              "      <th>Discount</th>\n",
              "      <th>Profit</th>\n",
              "    </tr>\n",
              "  </thead>\n",
              "  <tbody>\n",
              "    <tr>\n",
              "      <th>0</th>\n",
              "      <td>CA-2016-152156</td>\n",
              "      <td>2016-11-08</td>\n",
              "      <td>2016-11-11</td>\n",
              "      <td>Second Class</td>\n",
              "      <td>CG-12520</td>\n",
              "      <td>Claire Gute</td>\n",
              "      <td>Consumer</td>\n",
              "      <td>Henderson</td>\n",
              "      <td>Kentucky</td>\n",
              "      <td>42420</td>\n",
              "      <td>South</td>\n",
              "      <td>FUR-BO-10001798</td>\n",
              "      <td>Furniture</td>\n",
              "      <td>Bookcases</td>\n",
              "      <td>Bush Somerset Collection Bookcase</td>\n",
              "      <td>261.9600</td>\n",
              "      <td>2</td>\n",
              "      <td>0.00</td>\n",
              "      <td>41.9136</td>\n",
              "    </tr>\n",
              "    <tr>\n",
              "      <th>1</th>\n",
              "      <td>CA-2016-152156</td>\n",
              "      <td>2016-11-08</td>\n",
              "      <td>2016-11-11</td>\n",
              "      <td>Second Class</td>\n",
              "      <td>CG-12520</td>\n",
              "      <td>Claire Gute</td>\n",
              "      <td>Consumer</td>\n",
              "      <td>Henderson</td>\n",
              "      <td>Kentucky</td>\n",
              "      <td>42420</td>\n",
              "      <td>South</td>\n",
              "      <td>FUR-CH-10000454</td>\n",
              "      <td>Furniture</td>\n",
              "      <td>Chairs</td>\n",
              "      <td>Hon Deluxe Fabric Upholstered Stacking Chairs,...</td>\n",
              "      <td>731.9400</td>\n",
              "      <td>3</td>\n",
              "      <td>0.00</td>\n",
              "      <td>219.5820</td>\n",
              "    </tr>\n",
              "    <tr>\n",
              "      <th>2</th>\n",
              "      <td>CA-2016-138688</td>\n",
              "      <td>2016-06-12</td>\n",
              "      <td>2016-06-16</td>\n",
              "      <td>Second Class</td>\n",
              "      <td>DV-13045</td>\n",
              "      <td>Darrin Van Huff</td>\n",
              "      <td>Corporate</td>\n",
              "      <td>Los Angeles</td>\n",
              "      <td>California</td>\n",
              "      <td>90036</td>\n",
              "      <td>West</td>\n",
              "      <td>OFF-LA-10000240</td>\n",
              "      <td>Office Supplies</td>\n",
              "      <td>Labels</td>\n",
              "      <td>Self-Adhesive Address Labels for Typewriters b...</td>\n",
              "      <td>14.6200</td>\n",
              "      <td>2</td>\n",
              "      <td>0.00</td>\n",
              "      <td>6.8714</td>\n",
              "    </tr>\n",
              "    <tr>\n",
              "      <th>3</th>\n",
              "      <td>US-2015-108966</td>\n",
              "      <td>2015-10-11</td>\n",
              "      <td>2015-10-18</td>\n",
              "      <td>Standard Class</td>\n",
              "      <td>SO-20335</td>\n",
              "      <td>Sean O'Donnell</td>\n",
              "      <td>Consumer</td>\n",
              "      <td>Fort Lauderdale</td>\n",
              "      <td>Florida</td>\n",
              "      <td>33311</td>\n",
              "      <td>South</td>\n",
              "      <td>FUR-TA-10000577</td>\n",
              "      <td>Furniture</td>\n",
              "      <td>Tables</td>\n",
              "      <td>Bretford CR4500 Series Slim Rectangular Table</td>\n",
              "      <td>957.5775</td>\n",
              "      <td>5</td>\n",
              "      <td>0.45</td>\n",
              "      <td>-383.0310</td>\n",
              "    </tr>\n",
              "    <tr>\n",
              "      <th>4</th>\n",
              "      <td>US-2015-108966</td>\n",
              "      <td>2015-10-11</td>\n",
              "      <td>2015-10-18</td>\n",
              "      <td>Standard Class</td>\n",
              "      <td>SO-20335</td>\n",
              "      <td>Sean O'Donnell</td>\n",
              "      <td>Consumer</td>\n",
              "      <td>Fort Lauderdale</td>\n",
              "      <td>Florida</td>\n",
              "      <td>33311</td>\n",
              "      <td>South</td>\n",
              "      <td>OFF-ST-10000760</td>\n",
              "      <td>Office Supplies</td>\n",
              "      <td>Storage</td>\n",
              "      <td>Eldon Fold 'N Roll Cart System</td>\n",
              "      <td>22.3680</td>\n",
              "      <td>2</td>\n",
              "      <td>0.20</td>\n",
              "      <td>2.5164</td>\n",
              "    </tr>\n",
              "  </tbody>\n",
              "</table>\n",
              "</div>"
            ],
            "text/plain": [
              "         Order ID Order Date  Ship Date  ... Quantity Discount    Profit\n",
              "0  CA-2016-152156 2016-11-08 2016-11-11  ...        2     0.00   41.9136\n",
              "1  CA-2016-152156 2016-11-08 2016-11-11  ...        3     0.00  219.5820\n",
              "2  CA-2016-138688 2016-06-12 2016-06-16  ...        2     0.00    6.8714\n",
              "3  US-2015-108966 2015-10-11 2015-10-18  ...        5     0.45 -383.0310\n",
              "4  US-2015-108966 2015-10-11 2015-10-18  ...        2     0.20    2.5164\n",
              "\n",
              "[5 rows x 19 columns]"
            ]
          },
          "metadata": {
            "tags": []
          },
          "execution_count": 52
        }
      ]
    },
    {
      "cell_type": "code",
      "metadata": {
        "colab": {
          "base_uri": "https://localhost:8080/"
        },
        "id": "LsQElG0t5Kxn",
        "outputId": "47800673-8d6d-4a51-b727-1158c735ea5b"
      },
      "source": [
        "df['Category'].unique()"
      ],
      "execution_count": null,
      "outputs": [
        {
          "output_type": "execute_result",
          "data": {
            "text/plain": [
              "array(['Furniture', 'Office Supplies', 'Technology'], dtype=object)"
            ]
          },
          "metadata": {
            "tags": []
          },
          "execution_count": 53
        }
      ]
    },
    {
      "cell_type": "code",
      "metadata": {
        "colab": {
          "base_uri": "https://localhost:8080/"
        },
        "id": "8iz_mNGP5ZMT",
        "outputId": "fcc96daf-cda4-4e45-a411-47248da01fa0"
      },
      "source": [
        "df['Category'].value_counts()"
      ],
      "execution_count": null,
      "outputs": [
        {
          "output_type": "execute_result",
          "data": {
            "text/plain": [
              "Office Supplies    6026\n",
              "Furniture          2121\n",
              "Technology         1847\n",
              "Name: Category, dtype: int64"
            ]
          },
          "metadata": {
            "tags": []
          },
          "execution_count": 54
        }
      ]
    },
    {
      "cell_type": "code",
      "metadata": {
        "colab": {
          "base_uri": "https://localhost:8080/"
        },
        "id": "6kWT69lw5hw7",
        "outputId": "888ae912-6c68-498c-fcdc-b45d13cc5c5d"
      },
      "source": [
        "df['Sub-Category'].nunique()"
      ],
      "execution_count": null,
      "outputs": [
        {
          "output_type": "execute_result",
          "data": {
            "text/plain": [
              "17"
            ]
          },
          "metadata": {
            "tags": []
          },
          "execution_count": 55
        }
      ]
    },
    {
      "cell_type": "code",
      "metadata": {
        "colab": {
          "base_uri": "https://localhost:8080/"
        },
        "id": "KdEnJYeE8doT",
        "outputId": "7a4d411d-b666-42df-d453-6b01cafeced8"
      },
      "source": [
        "df['Sub-Category'].value_counts()"
      ],
      "execution_count": null,
      "outputs": [
        {
          "output_type": "execute_result",
          "data": {
            "text/plain": [
              "Binders        1523\n",
              "Paper          1370\n",
              "Furnishings     957\n",
              "Phones          889\n",
              "Storage         846\n",
              "Art             796\n",
              "Accessories     775\n",
              "Chairs          617\n",
              "Appliances      466\n",
              "Labels          364\n",
              "Tables          319\n",
              "Envelopes       254\n",
              "Bookcases       228\n",
              "Fasteners       217\n",
              "Supplies        190\n",
              "Machines        115\n",
              "Copiers          68\n",
              "Name: Sub-Category, dtype: int64"
            ]
          },
          "metadata": {
            "tags": []
          },
          "execution_count": 56
        }
      ]
    },
    {
      "cell_type": "code",
      "metadata": {
        "colab": {
          "base_uri": "https://localhost:8080/",
          "height": 483
        },
        "id": "hf__6F2r8qPv",
        "outputId": "e6cf4feb-509b-436a-d55a-ec02ea52aad9"
      },
      "source": [
        "plt.figure(figsize=(16,8))\n",
        "plt.bar('Sub-Category','Category',data=df,color='y')\n",
        "plt.show()"
      ],
      "execution_count": null,
      "outputs": [
        {
          "output_type": "display_data",
          "data": {
            "image/png": "[encoded data removed]",
            "text/plain": [
              "<Figure size 1152x576 with 1 Axes>"
            ]
          },
          "metadata": {
            "tags": [],
            "needs_background": "light"
          }
        }
      ]
    },
    {
      "cell_type": "code",
      "metadata": {
        "colab": {
          "base_uri": "https://localhost:8080/",
          "height": 575
        },
        "id": "85tcqXRY8vjL",
        "outputId": "a5d5601d-9e4a-4099-df28-7ab1c1434175"
      },
      "source": [
        "plt.figure(figsize=(12,10))\n",
        "df['Sub-Category'].value_counts().plot.pie(autopct=\"%1.1f%%\")\n",
        "plt.show()"
      ],
      "execution_count": null,
      "outputs": [
        {
          "output_type": "display_data",
          "data": {
            "image/png": "[encoded data removed]",
            "text/plain": [
              "<Figure size 864x720 with 1 Axes>"
            ]
          },
          "metadata": {
            "tags": []
          }
        }
      ]
    },
    {
      "cell_type": "code",
      "metadata": {
        "colab": {
          "base_uri": "https://localhost:8080/",
          "height": 344
        },
        "id": "tn4o1i4b844E",
        "outputId": "fa9e2e37-a627-4931-f4ec-8d79c24c3d6a"
      },
      "source": [
        "df.groupby('Sub-Category')['Profit','Sales'].agg(['sum']).plot.bar()\n",
        "plt.title('Total Profit and Sales per Sub-Category')\n",
        "plt.show()"
      ],
      "execution_count": null,
      "outputs": [
        {
          "output_type": "display_data",
          "data": {
            "image/png": "[encoded data removed]",
            "text/plain": [
              "<Figure size 432x288 with 1 Axes>"
            ]
          },
          "metadata": {
            "tags": [],
            "needs_background": "light"
          }
        }
      ]
    },
    {
      "cell_type": "code",
      "metadata": {
        "colab": {
          "base_uri": "https://localhost:8080/"
        },
        "id": "eDnpWmxX9B3J",
        "outputId": "1c54a8bc-e3e9-4c05-d661-619c1c410cab"
      },
      "source": [
        "df['Product Name'].nunique()"
      ],
      "execution_count": null,
      "outputs": [
        {
          "output_type": "execute_result",
          "data": {
            "text/plain": [
              "1850"
            ]
          },
          "metadata": {
            "tags": []
          },
          "execution_count": 60
        }
      ]
    },
    {
      "cell_type": "code",
      "metadata": {
        "colab": {
          "base_uri": "https://localhost:8080/"
        },
        "id": "7HEWb-gW9JVi",
        "outputId": "90afab74-01f3-4cdc-91ee-d623d8c48225"
      },
      "source": [
        "df['Product Name'].value_counts()"
      ],
      "execution_count": null,
      "outputs": [
        {
          "output_type": "execute_result",
          "data": {
            "text/plain": [
              "Staple envelope                                             48\n",
              "Staples                                                     46\n",
              "Easy-staple paper                                           46\n",
              "Avery Non-Stick Binders                                     20\n",
              "Staples in misc. colors                                     19\n",
              "                                                            ..\n",
              "4009 Highlighters                                            1\n",
              "Xerox 1922                                                   1\n",
              "Linden 12\" Wall Clock With Oak Frame                         1\n",
              "Fellowes Smart Surge Ten-Outlet Protector, Platinum          1\n",
              "Stride Job 150 Highlighters, Chisel Tip, Assorted Colors     1\n",
              "Name: Product Name, Length: 1850, dtype: int64"
            ]
          },
          "metadata": {
            "tags": []
          },
          "execution_count": 61
        }
      ]
    },
    {
      "cell_type": "code",
      "metadata": {
        "colab": {
          "base_uri": "https://localhost:8080/",
          "height": 592
        },
        "id": "cET40ph39-TM",
        "outputId": "436d7dba-3569-4733-9dd4-3aa0f3381dbe"
      },
      "source": [
        "plt.figure(figsize=(12,10))\n",
        "df['Product Name'].value_counts().head(10).plot.pie(autopct=\"%1.1f%%\")"
      ],
      "execution_count": null,
      "outputs": [
        {
          "output_type": "execute_result",
          "data": {
            "text/plain": [
              "<matplotlib.axes._subplots.AxesSubplot at 0x7f45945a3c90>"
            ]
          },
          "metadata": {
            "tags": []
          },
          "execution_count": 62
        },
        {
          "output_type": "display_data",
          "data": {
            "image/png": "[encoded data removed]",
            "text/plain": [
              "<Figure size 864x720 with 1 Axes>"
            ]
          },
          "metadata": {
            "tags": []
          }
        }
      ]
    },
    {
      "cell_type": "code",
      "metadata": {
        "colab": {
          "base_uri": "https://localhost:8080/",
          "height": 497
        },
        "id": "VGUfSrE1-D2u",
        "outputId": "f278cb42-a126-47a7-efbe-3bbbb52f5882"
      },
      "source": [
        "plt.figure(figsize=(15,8))\n",
        "sns.countplot(x=\"Sub-Category\",hue=\"Region\",data=df)\n",
        "plt.show()"
      ],
      "execution_count": null,
      "outputs": [
        {
          "output_type": "display_data",
          "data": {
            "image/png": "[encoded data removed]",
            "text/plain": [
              "<Figure size 1080x576 with 1 Axes>"
            ]
          },
          "metadata": {
            "tags": [],
            "needs_background": "light"
          }
        }
      ]
    },
    {
      "cell_type": "code",
      "metadata": {
        "colab": {
          "base_uri": "https://localhost:8080/"
        },
        "id": "q-h71FvaDEYu",
        "outputId": "5b9879c2-f03e-4259-e8a2-a68500c50da0"
      },
      "source": [
        "df['Cost']=df['Sales']-df['Profit']\n",
        "df['Cost'].head()"
      ],
      "execution_count": null,
      "outputs": [
        {
          "output_type": "execute_result",
          "data": {
            "text/plain": [
              "0     220.0464\n",
              "1     512.3580\n",
              "2       7.7486\n",
              "3    1340.6085\n",
              "4      19.8516\n",
              "Name: Cost, dtype: float64"
            ]
          },
          "metadata": {
            "tags": []
          },
          "execution_count": 64
        }
      ]
    },
    {
      "cell_type": "code",
      "metadata": {
        "id": "XDUnx-Z4DRDu"
      },
      "source": [
        "df['Profit %']=(df['Profit']/df['Cost'])*100\n"
      ],
      "execution_count": null,
      "outputs": []
    },
    {
      "cell_type": "code",
      "metadata": {
        "colab": {
          "base_uri": "https://localhost:8080/",
          "height": 203
        },
        "id": "vDYFiYbJDT_j",
        "outputId": "5a59c68a-6627-4e95-b8fe-b543cb2b57e1"
      },
      "source": [
        "df.iloc[[0,1,2,3,4],[14,20]]"
      ],
      "execution_count": null,
      "outputs": [
        {
          "output_type": "execute_result",
          "data": {
            "text/html": [
              "<div>\n",
              "<style scoped>\n",
              "    .dataframe tbody tr th:only-of-type {\n",
              "        vertical-align: middle;\n",
              "    }\n",
              "\n",
              "    .dataframe tbody tr th {\n",
              "        vertical-align: top;\n",
              "    }\n",
              "\n",
              "    .dataframe thead th {\n",
              "        text-align: right;\n",
              "    }\n",
              "</style>\n",
              "<table border=\"1\" class=\"dataframe\">\n",
              "  <thead>\n",
              "    <tr style=\"text-align: right;\">\n",
              "      <th></th>\n",
              "      <th>Product Name</th>\n",
              "      <th>Profit %</th>\n",
              "    </tr>\n",
              "  </thead>\n",
              "  <tbody>\n",
              "    <tr>\n",
              "      <th>0</th>\n",
              "      <td>Bush Somerset Collection Bookcase</td>\n",
              "      <td>19.047619</td>\n",
              "    </tr>\n",
              "    <tr>\n",
              "      <th>1</th>\n",
              "      <td>Hon Deluxe Fabric Upholstered Stacking Chairs,...</td>\n",
              "      <td>42.857143</td>\n",
              "    </tr>\n",
              "    <tr>\n",
              "      <th>2</th>\n",
              "      <td>Self-Adhesive Address Labels for Typewriters b...</td>\n",
              "      <td>88.679245</td>\n",
              "    </tr>\n",
              "    <tr>\n",
              "      <th>3</th>\n",
              "      <td>Bretford CR4500 Series Slim Rectangular Table</td>\n",
              "      <td>-28.571429</td>\n",
              "    </tr>\n",
              "    <tr>\n",
              "      <th>4</th>\n",
              "      <td>Eldon Fold 'N Roll Cart System</td>\n",
              "      <td>12.676056</td>\n",
              "    </tr>\n",
              "  </tbody>\n",
              "</table>\n",
              "</div>"
            ],
            "text/plain": [
              "                                        Product Name   Profit %\n",
              "0                  Bush Somerset Collection Bookcase  19.047619\n",
              "1  Hon Deluxe Fabric Upholstered Stacking Chairs,...  42.857143\n",
              "2  Self-Adhesive Address Labels for Typewriters b...  88.679245\n",
              "3      Bretford CR4500 Series Slim Rectangular Table -28.571429\n",
              "4                     Eldon Fold 'N Roll Cart System  12.676056"
            ]
          },
          "metadata": {
            "tags": []
          },
          "execution_count": 66
        }
      ]
    },
    {
      "cell_type": "code",
      "metadata": {
        "colab": {
          "base_uri": "https://localhost:8080/",
          "height": 974
        },
        "id": "PVkjPgqoDW8t",
        "outputId": "32f9df67-14ff-479e-e474-db57906f4f3f"
      },
      "source": [
        "df.sort_values(['Profit %','Product Name'],ascending=False).groupby('Profit %').head(5)"
      ],
      "execution_count": null,
      "outputs": [
        {
          "output_type": "execute_result",
          "data": {
            "text/html": [
              "<div>\n",
              "<style scoped>\n",
              "    .dataframe tbody tr th:only-of-type {\n",
              "        vertical-align: middle;\n",
              "    }\n",
              "\n",
              "    .dataframe tbody tr th {\n",
              "        vertical-align: top;\n",
              "    }\n",
              "\n",
              "    .dataframe thead th {\n",
              "        text-align: right;\n",
              "    }\n",
              "</style>\n",
              "<table border=\"1\" class=\"dataframe\">\n",
              "  <thead>\n",
              "    <tr style=\"text-align: right;\">\n",
              "      <th></th>\n",
              "      <th>Order ID</th>\n",
              "      <th>Order Date</th>\n",
              "      <th>Ship Date</th>\n",
              "      <th>Ship Mode</th>\n",
              "      <th>Customer ID</th>\n",
              "      <th>Customer Name</th>\n",
              "      <th>Segment</th>\n",
              "      <th>City</th>\n",
              "      <th>State</th>\n",
              "      <th>Postal Code</th>\n",
              "      <th>Region</th>\n",
              "      <th>Product ID</th>\n",
              "      <th>Category</th>\n",
              "      <th>Sub-Category</th>\n",
              "      <th>Product Name</th>\n",
              "      <th>Sales</th>\n",
              "      <th>Quantity</th>\n",
              "      <th>Discount</th>\n",
              "      <th>Profit</th>\n",
              "      <th>Cost</th>\n",
              "      <th>Profit %</th>\n",
              "    </tr>\n",
              "  </thead>\n",
              "  <tbody>\n",
              "    <tr>\n",
              "      <th>1696</th>\n",
              "      <td>CA-2015-156335</td>\n",
              "      <td>2015-09-25</td>\n",
              "      <td>2015-09-28</td>\n",
              "      <td>Second Class</td>\n",
              "      <td>PO-19195</td>\n",
              "      <td>Phillina Ober</td>\n",
              "      <td>Home Office</td>\n",
              "      <td>Bayonne</td>\n",
              "      <td>New Jersey</td>\n",
              "      <td>7002</td>\n",
              "      <td>East</td>\n",
              "      <td>TEC-PH-10002726</td>\n",
              "      <td>Technology</td>\n",
              "      <td>Phones</td>\n",
              "      <td>netTALK DUO VoIP Telephone Service</td>\n",
              "      <td>104.980</td>\n",
              "      <td>2</td>\n",
              "      <td>0.0</td>\n",
              "      <td>52.4900</td>\n",
              "      <td>52.4900</td>\n",
              "      <td>100.000000</td>\n",
              "    </tr>\n",
              "    <tr>\n",
              "      <th>4611</th>\n",
              "      <td>CA-2016-109407</td>\n",
              "      <td>2016-01-24</td>\n",
              "      <td>2016-01-26</td>\n",
              "      <td>Second Class</td>\n",
              "      <td>HG-14965</td>\n",
              "      <td>Henry Goldwyn</td>\n",
              "      <td>Corporate</td>\n",
              "      <td>Gulfport</td>\n",
              "      <td>Mississippi</td>\n",
              "      <td>39503</td>\n",
              "      <td>South</td>\n",
              "      <td>OFF-BI-10000285</td>\n",
              "      <td>Office Supplies</td>\n",
              "      <td>Binders</td>\n",
              "      <td>XtraLife ClearVue Slant-D Ring Binders by Card...</td>\n",
              "      <td>31.360</td>\n",
              "      <td>4</td>\n",
              "      <td>0.0</td>\n",
              "      <td>15.6800</td>\n",
              "      <td>15.6800</td>\n",
              "      <td>100.000000</td>\n",
              "    </tr>\n",
              "    <tr>\n",
              "      <th>3984</th>\n",
              "      <td>CA-2016-135265</td>\n",
              "      <td>2016-07-07</td>\n",
              "      <td>2016-07-09</td>\n",
              "      <td>Second Class</td>\n",
              "      <td>CC-12370</td>\n",
              "      <td>Christopher Conant</td>\n",
              "      <td>Consumer</td>\n",
              "      <td>Los Angeles</td>\n",
              "      <td>California</td>\n",
              "      <td>90045</td>\n",
              "      <td>West</td>\n",
              "      <td>OFF-PA-10002923</td>\n",
              "      <td>Office Supplies</td>\n",
              "      <td>Paper</td>\n",
              "      <td>Xerox 1942</td>\n",
              "      <td>48.940</td>\n",
              "      <td>1</td>\n",
              "      <td>0.0</td>\n",
              "      <td>24.4700</td>\n",
              "      <td>24.4700</td>\n",
              "      <td>100.000000</td>\n",
              "    </tr>\n",
              "    <tr>\n",
              "      <th>4651</th>\n",
              "      <td>CA-2017-150987</td>\n",
              "      <td>2017-04-08</td>\n",
              "      <td>2017-04-12</td>\n",
              "      <td>Standard Class</td>\n",
              "      <td>AH-10120</td>\n",
              "      <td>Adrian Hane</td>\n",
              "      <td>Home Office</td>\n",
              "      <td>San Francisco</td>\n",
              "      <td>California</td>\n",
              "      <td>94110</td>\n",
              "      <td>West</td>\n",
              "      <td>OFF-PA-10002923</td>\n",
              "      <td>Office Supplies</td>\n",
              "      <td>Paper</td>\n",
              "      <td>Xerox 1942</td>\n",
              "      <td>195.760</td>\n",
              "      <td>4</td>\n",
              "      <td>0.0</td>\n",
              "      <td>97.8800</td>\n",
              "      <td>97.8800</td>\n",
              "      <td>100.000000</td>\n",
              "    </tr>\n",
              "    <tr>\n",
              "      <th>6600</th>\n",
              "      <td>CA-2014-154095</td>\n",
              "      <td>2014-12-02</td>\n",
              "      <td>2014-12-07</td>\n",
              "      <td>Standard Class</td>\n",
              "      <td>ON-18715</td>\n",
              "      <td>Odella Nelson</td>\n",
              "      <td>Corporate</td>\n",
              "      <td>Clinton</td>\n",
              "      <td>Maryland</td>\n",
              "      <td>20735</td>\n",
              "      <td>East</td>\n",
              "      <td>OFF-PA-10002923</td>\n",
              "      <td>Office Supplies</td>\n",
              "      <td>Paper</td>\n",
              "      <td>Xerox 1942</td>\n",
              "      <td>146.820</td>\n",
              "      <td>3</td>\n",
              "      <td>0.0</td>\n",
              "      <td>73.4100</td>\n",
              "      <td>73.4100</td>\n",
              "      <td>100.000000</td>\n",
              "    </tr>\n",
              "    <tr>\n",
              "      <th>...</th>\n",
              "      <td>...</td>\n",
              "      <td>...</td>\n",
              "      <td>...</td>\n",
              "      <td>...</td>\n",
              "      <td>...</td>\n",
              "      <td>...</td>\n",
              "      <td>...</td>\n",
              "      <td>...</td>\n",
              "      <td>...</td>\n",
              "      <td>...</td>\n",
              "      <td>...</td>\n",
              "      <td>...</td>\n",
              "      <td>...</td>\n",
              "      <td>...</td>\n",
              "      <td>...</td>\n",
              "      <td>...</td>\n",
              "      <td>...</td>\n",
              "      <td>...</td>\n",
              "      <td>...</td>\n",
              "      <td>...</td>\n",
              "      <td>...</td>\n",
              "    </tr>\n",
              "    <tr>\n",
              "      <th>8916</th>\n",
              "      <td>US-2016-144057</td>\n",
              "      <td>2016-05-09</td>\n",
              "      <td>2016-05-13</td>\n",
              "      <td>Standard Class</td>\n",
              "      <td>CV-12805</td>\n",
              "      <td>Cynthia Voltz</td>\n",
              "      <td>Corporate</td>\n",
              "      <td>Austin</td>\n",
              "      <td>Texas</td>\n",
              "      <td>78745</td>\n",
              "      <td>Central</td>\n",
              "      <td>OFF-AP-10000390</td>\n",
              "      <td>Office Supplies</td>\n",
              "      <td>Appliances</td>\n",
              "      <td>Euro Pro Shark Stick Mini Vacuum</td>\n",
              "      <td>48.784</td>\n",
              "      <td>4</td>\n",
              "      <td>0.8</td>\n",
              "      <td>-131.7168</td>\n",
              "      <td>180.5008</td>\n",
              "      <td>-72.972973</td>\n",
              "    </tr>\n",
              "    <tr>\n",
              "      <th>8766</th>\n",
              "      <td>CA-2015-107083</td>\n",
              "      <td>2015-11-21</td>\n",
              "      <td>2015-11-27</td>\n",
              "      <td>Standard Class</td>\n",
              "      <td>BB-11545</td>\n",
              "      <td>Brenda Bowman</td>\n",
              "      <td>Corporate</td>\n",
              "      <td>Fort Worth</td>\n",
              "      <td>Texas</td>\n",
              "      <td>76106</td>\n",
              "      <td>Central</td>\n",
              "      <td>OFF-AP-10004136</td>\n",
              "      <td>Office Supplies</td>\n",
              "      <td>Appliances</td>\n",
              "      <td>Kensington 6 Outlet SmartSocket Surge Protector</td>\n",
              "      <td>24.588</td>\n",
              "      <td>3</td>\n",
              "      <td>0.8</td>\n",
              "      <td>-67.6170</td>\n",
              "      <td>92.2050</td>\n",
              "      <td>-73.333333</td>\n",
              "    </tr>\n",
              "    <tr>\n",
              "      <th>676</th>\n",
              "      <td>US-2017-119438</td>\n",
              "      <td>2017-03-18</td>\n",
              "      <td>2017-03-23</td>\n",
              "      <td>Standard Class</td>\n",
              "      <td>CD-11980</td>\n",
              "      <td>Carol Darley</td>\n",
              "      <td>Consumer</td>\n",
              "      <td>Tyler</td>\n",
              "      <td>Texas</td>\n",
              "      <td>75701</td>\n",
              "      <td>Central</td>\n",
              "      <td>OFF-AP-10000804</td>\n",
              "      <td>Office Supplies</td>\n",
              "      <td>Appliances</td>\n",
              "      <td>Hoover Portapower Portable Vacuum</td>\n",
              "      <td>2.688</td>\n",
              "      <td>3</td>\n",
              "      <td>0.8</td>\n",
              "      <td>-7.3920</td>\n",
              "      <td>10.0800</td>\n",
              "      <td>-73.333333</td>\n",
              "    </tr>\n",
              "    <tr>\n",
              "      <th>261</th>\n",
              "      <td>US-2017-155299</td>\n",
              "      <td>2017-06-08</td>\n",
              "      <td>2017-06-12</td>\n",
              "      <td>Standard Class</td>\n",
              "      <td>Dl-13600</td>\n",
              "      <td>Dorris liebe</td>\n",
              "      <td>Corporate</td>\n",
              "      <td>Pasadena</td>\n",
              "      <td>Texas</td>\n",
              "      <td>77506</td>\n",
              "      <td>Central</td>\n",
              "      <td>OFF-AP-10002203</td>\n",
              "      <td>Office Supplies</td>\n",
              "      <td>Appliances</td>\n",
              "      <td>Eureka Disposable Bags for Sanitaire Vibra Gro...</td>\n",
              "      <td>1.624</td>\n",
              "      <td>2</td>\n",
              "      <td>0.8</td>\n",
              "      <td>-4.4660</td>\n",
              "      <td>6.0900</td>\n",
              "      <td>-73.333333</td>\n",
              "    </tr>\n",
              "    <tr>\n",
              "      <th>9164</th>\n",
              "      <td>CA-2015-164007</td>\n",
              "      <td>2015-06-08</td>\n",
              "      <td>2015-06-12</td>\n",
              "      <td>Standard Class</td>\n",
              "      <td>MG-17695</td>\n",
              "      <td>Maureen Gnade</td>\n",
              "      <td>Consumer</td>\n",
              "      <td>Chicago</td>\n",
              "      <td>Illinois</td>\n",
              "      <td>60610</td>\n",
              "      <td>Central</td>\n",
              "      <td>OFF-AP-10003849</td>\n",
              "      <td>Office Supplies</td>\n",
              "      <td>Appliances</td>\n",
              "      <td>Hoover Shoulder Vac Commercial Portable Vacuum</td>\n",
              "      <td>143.128</td>\n",
              "      <td>2</td>\n",
              "      <td>0.8</td>\n",
              "      <td>-393.6020</td>\n",
              "      <td>536.7300</td>\n",
              "      <td>-73.333333</td>\n",
              "    </tr>\n",
              "  </tbody>\n",
              "</table>\n",
              "<p>3461 rows × 21 columns</p>\n",
              "</div>"
            ],
            "text/plain": [
              "            Order ID Order Date  Ship Date  ...    Profit      Cost    Profit %\n",
              "1696  CA-2015-156335 2015-09-25 2015-09-28  ...   52.4900   52.4900  100.000000\n",
              "4611  CA-2016-109407 2016-01-24 2016-01-26  ...   15.6800   15.6800  100.000000\n",
              "3984  CA-2016-135265 2016-07-07 2016-07-09  ...   24.4700   24.4700  100.000000\n",
              "4651  CA-2017-150987 2017-04-08 2017-04-12  ...   97.8800   97.8800  100.000000\n",
              "6600  CA-2014-154095 2014-12-02 2014-12-07  ...   73.4100   73.4100  100.000000\n",
              "...              ...        ...        ...  ...       ...       ...         ...\n",
              "8916  US-2016-144057 2016-05-09 2016-05-13  ... -131.7168  180.5008  -72.972973\n",
              "8766  CA-2015-107083 2015-11-21 2015-11-27  ...  -67.6170   92.2050  -73.333333\n",
              "676   US-2017-119438 2017-03-18 2017-03-23  ...   -7.3920   10.0800  -73.333333\n",
              "261   US-2017-155299 2017-06-08 2017-06-12  ...   -4.4660    6.0900  -73.333333\n",
              "9164  CA-2015-164007 2015-06-08 2015-06-12  ... -393.6020  536.7300  -73.333333\n",
              "\n",
              "[3461 rows x 21 columns]"
            ]
          },
          "metadata": {
            "tags": []
          },
          "execution_count": 67
        }
      ]
    },
    {
      "cell_type": "code",
      "metadata": {
        "colab": {
          "base_uri": "https://localhost:8080/"
        },
        "id": "d_qzWjCcDaKr",
        "outputId": "7f0e084a-9854-4ef5-cf26-55fc5b52612c"
      },
      "source": [
        "df['Customer ID'].nunique()"
      ],
      "execution_count": null,
      "outputs": [
        {
          "output_type": "execute_result",
          "data": {
            "text/plain": [
              "793"
            ]
          },
          "metadata": {
            "tags": []
          },
          "execution_count": 68
        }
      ]
    },
    {
      "cell_type": "code",
      "metadata": {
        "colab": {
          "base_uri": "https://localhost:8080/"
        },
        "id": "yiQypXWIDd8P",
        "outputId": "aa353311-262d-4d6b-c91d-98781ea6cd73"
      },
      "source": [
        "df_top10=df['Customer Name'].value_counts().head(10)\n",
        "df_top10"
      ],
      "execution_count": null,
      "outputs": [
        {
          "output_type": "execute_result",
          "data": {
            "text/plain": [
              "William Brown          37\n",
              "John Lee               34\n",
              "Matt Abelman           34\n",
              "Paul Prost             34\n",
              "Edward Hooks           32\n",
              "Chloris Kastensmidt    32\n",
              "Seth Vernon            32\n",
              "Jonathan Doherty       32\n",
              "Arthur Prichep         31\n",
              "Zuschuss Carroll       31\n",
              "Name: Customer Name, dtype: int64"
            ]
          },
          "metadata": {
            "tags": []
          },
          "execution_count": 69
        }
      ]
    },
    {
      "cell_type": "code",
      "metadata": {
        "colab": {
          "base_uri": "https://localhost:8080/",
          "height": 497
        },
        "id": "XJyBYzaBDgKD",
        "outputId": "9b9d3ce1-73aa-4971-86f7-9a7d1ef697c9"
      },
      "source": [
        "fig=plt.figure(figsize=(10,8))\n",
        "ax = fig.add_subplot(111)\n",
        "s=sns.countplot('Segment', data = df)\n",
        "for s in ax.patches:\n",
        "    ax.annotate('{:.0f}'.format(s.get_height()), (s.get_x()+0.15, s.get_height()+1))\n",
        "plt.show()"
      ],
      "execution_count": null,
      "outputs": [
        {
          "output_type": "display_data",
          "data": {
            "image/png": "[encoded data removed]",
            "text/plain": [
              "<Figure size 720x576 with 1 Axes>"
            ]
          },
          "metadata": {
            "tags": [],
            "needs_background": "light"
          }
        }
      ]
    },
    {
      "cell_type": "code",
      "metadata": {
        "colab": {
          "base_uri": "https://localhost:8080/",
          "height": 585
        },
        "id": "7NvsSpVXDkEY",
        "outputId": "d30f4311-ade5-4089-8220-d88d91751f79"
      },
      "source": [
        "sortedTop20 = df.sort_values(['Profit'], ascending=False).head(20)\n",
        "fig = plt.figure(figsize=(12,8))\n",
        "ax = fig.add_subplot(111)\n",
        "p = sns.barplot(x='Customer Name', y='Profit',hue='State',palette='Set1', data=sortedTop20, ax=ax)\n",
        "ax.set_title(\"Top 20 profitable Customers\")\n",
        "ax.set_xticklabels(p.get_xticklabels(), rotation=75)\n",
        "plt.tight_layout()\n",
        "plt.show()\n"
      ],
      "execution_count": null,
      "outputs": [
        {
          "output_type": "display_data",
          "data": {
            "image/png": "[encoded data removed]",
            "text/plain": [
              "<Figure size 864x576 with 1 Axes>"
            ]
          },
          "metadata": {
            "tags": [],
            "needs_background": "light"
          }
        }
      ]
    },
    {
      "cell_type": "code",
      "metadata": {
        "colab": {
          "base_uri": "https://localhost:8080/"
        },
        "id": "oI-XzYdCDno3",
        "outputId": "2c25dadc-38ff-459d-fb81-01d629086ca8"
      },
      "source": [
        "df['Order ID'].nunique()"
      ],
      "execution_count": null,
      "outputs": [
        {
          "output_type": "execute_result",
          "data": {
            "text/plain": [
              "5009"
            ]
          },
          "metadata": {
            "tags": []
          },
          "execution_count": 72
        }
      ]
    },
    {
      "cell_type": "code",
      "metadata": {
        "colab": {
          "base_uri": "https://localhost:8080/"
        },
        "id": "ZFjTZQ_mDsm5",
        "outputId": "14141b61-2e60-40fc-8869-c4bf80a1e43b"
      },
      "source": [
        "df['Shipment Duration']=(pd.to_datetime(df['Ship Date'])-pd.to_datetime(df['Order Date'])).dt.days\n",
        "df['Shipment Duration']"
      ],
      "execution_count": null,
      "outputs": [
        {
          "output_type": "execute_result",
          "data": {
            "text/plain": [
              "0       3\n",
              "1       3\n",
              "2       4\n",
              "3       7\n",
              "4       7\n",
              "       ..\n",
              "9989    2\n",
              "9990    5\n",
              "9991    5\n",
              "9992    5\n",
              "9993    5\n",
              "Name: Shipment Duration, Length: 9994, dtype: int64"
            ]
          },
          "metadata": {
            "tags": []
          },
          "execution_count": 73
        }
      ]
    },
    {
      "cell_type": "code",
      "metadata": {
        "colab": {
          "base_uri": "https://localhost:8080/",
          "height": 417
        },
        "id": "FDHQC_IWDvJ0",
        "outputId": "f3f4249d-28e3-46c5-faeb-2088be4e7a99"
      },
      "source": [
        "df.iloc[:,[0,3,21]]"
      ],
      "execution_count": null,
      "outputs": [
        {
          "output_type": "execute_result",
          "data": {
            "text/html": [
              "<div>\n",
              "<style scoped>\n",
              "    .dataframe tbody tr th:only-of-type {\n",
              "        vertical-align: middle;\n",
              "    }\n",
              "\n",
              "    .dataframe tbody tr th {\n",
              "        vertical-align: top;\n",
              "    }\n",
              "\n",
              "    .dataframe thead th {\n",
              "        text-align: right;\n",
              "    }\n",
              "</style>\n",
              "<table border=\"1\" class=\"dataframe\">\n",
              "  <thead>\n",
              "    <tr style=\"text-align: right;\">\n",
              "      <th></th>\n",
              "      <th>Order ID</th>\n",
              "      <th>Ship Mode</th>\n",
              "      <th>Shipment Duration</th>\n",
              "    </tr>\n",
              "  </thead>\n",
              "  <tbody>\n",
              "    <tr>\n",
              "      <th>0</th>\n",
              "      <td>CA-2016-152156</td>\n",
              "      <td>Second Class</td>\n",
              "      <td>3</td>\n",
              "    </tr>\n",
              "    <tr>\n",
              "      <th>1</th>\n",
              "      <td>CA-2016-152156</td>\n",
              "      <td>Second Class</td>\n",
              "      <td>3</td>\n",
              "    </tr>\n",
              "    <tr>\n",
              "      <th>2</th>\n",
              "      <td>CA-2016-138688</td>\n",
              "      <td>Second Class</td>\n",
              "      <td>4</td>\n",
              "    </tr>\n",
              "    <tr>\n",
              "      <th>3</th>\n",
              "      <td>US-2015-108966</td>\n",
              "      <td>Standard Class</td>\n",
              "      <td>7</td>\n",
              "    </tr>\n",
              "    <tr>\n",
              "      <th>4</th>\n",
              "      <td>US-2015-108966</td>\n",
              "      <td>Standard Class</td>\n",
              "      <td>7</td>\n",
              "    </tr>\n",
              "    <tr>\n",
              "      <th>...</th>\n",
              "      <td>...</td>\n",
              "      <td>...</td>\n",
              "      <td>...</td>\n",
              "    </tr>\n",
              "    <tr>\n",
              "      <th>9989</th>\n",
              "      <td>CA-2014-110422</td>\n",
              "      <td>Second Class</td>\n",
              "      <td>2</td>\n",
              "    </tr>\n",
              "    <tr>\n",
              "      <th>9990</th>\n",
              "      <td>CA-2017-121258</td>\n",
              "      <td>Standard Class</td>\n",
              "      <td>5</td>\n",
              "    </tr>\n",
              "    <tr>\n",
              "      <th>9991</th>\n",
              "      <td>CA-2017-121258</td>\n",
              "      <td>Standard Class</td>\n",
              "      <td>5</td>\n",
              "    </tr>\n",
              "    <tr>\n",
              "      <th>9992</th>\n",
              "      <td>CA-2017-121258</td>\n",
              "      <td>Standard Class</td>\n",
              "      <td>5</td>\n",
              "    </tr>\n",
              "    <tr>\n",
              "      <th>9993</th>\n",
              "      <td>CA-2017-119914</td>\n",
              "      <td>Second Class</td>\n",
              "      <td>5</td>\n",
              "    </tr>\n",
              "  </tbody>\n",
              "</table>\n",
              "<p>9994 rows × 3 columns</p>\n",
              "</div>"
            ],
            "text/plain": [
              "            Order ID       Ship Mode  Shipment Duration\n",
              "0     CA-2016-152156    Second Class                  3\n",
              "1     CA-2016-152156    Second Class                  3\n",
              "2     CA-2016-138688    Second Class                  4\n",
              "3     US-2015-108966  Standard Class                  7\n",
              "4     US-2015-108966  Standard Class                  7\n",
              "...              ...             ...                ...\n",
              "9989  CA-2014-110422    Second Class                  2\n",
              "9990  CA-2017-121258  Standard Class                  5\n",
              "9991  CA-2017-121258  Standard Class                  5\n",
              "9992  CA-2017-121258  Standard Class                  5\n",
              "9993  CA-2017-119914    Second Class                  5\n",
              "\n",
              "[9994 rows x 3 columns]"
            ]
          },
          "metadata": {
            "tags": []
          },
          "execution_count": 74
        }
      ]
    },
    {
      "cell_type": "code",
      "metadata": {
        "id": "wbD6VUijD0C5"
      },
      "source": [
        "def agg_customer(x):\n",
        "    d = []\n",
        "    d.append(x['Order ID'].count())\n",
        "    d.append(x['Sales'].sum())\n",
        "    d.append(x['Profit %'].mean())\n",
        "    d.append(pd.to_datetime(x['Order Date']).min())\n",
        "    d.append(pd.to_datetime(x['Order Date']).max())\n",
        "    d.append(x['Product Name'].unique())\n",
        "    d.append(x['City'].unique())\n",
        "    return pd.Series(d, index=['#Purchases','Total_Sales','Average Profit % gained','First_Purchase_Date','Latest_Purchase_Date','Products Purchased','Location_Count'])"
      ],
      "execution_count": null,
      "outputs": []
    },
    {
      "cell_type": "code",
      "metadata": {
        "colab": {
          "base_uri": "https://localhost:8080/",
          "height": 716
        },
        "id": "7UD_Tj2lD4K4",
        "outputId": "732da93d-b7ac-4b39-d119-7f25dbea6e40"
      },
      "source": [
        "df_agg = df.groupby('Customer ID').apply(agg_customer)\n",
        "df_agg\n"
      ],
      "execution_count": null,
      "outputs": [
        {
          "output_type": "execute_result",
          "data": {
            "text/html": [
              "<div>\n",
              "<style scoped>\n",
              "    .dataframe tbody tr th:only-of-type {\n",
              "        vertical-align: middle;\n",
              "    }\n",
              "\n",
              "    .dataframe tbody tr th {\n",
              "        vertical-align: top;\n",
              "    }\n",
              "\n",
              "    .dataframe thead th {\n",
              "        text-align: right;\n",
              "    }\n",
              "</style>\n",
              "<table border=\"1\" class=\"dataframe\">\n",
              "  <thead>\n",
              "    <tr style=\"text-align: right;\">\n",
              "      <th></th>\n",
              "      <th>#Purchases</th>\n",
              "      <th>Total_Sales</th>\n",
              "      <th>Average Profit % gained</th>\n",
              "      <th>First_Purchase_Date</th>\n",
              "      <th>Latest_Purchase_Date</th>\n",
              "      <th>Products Purchased</th>\n",
              "      <th>Location_Count</th>\n",
              "    </tr>\n",
              "    <tr>\n",
              "      <th>Customer ID</th>\n",
              "      <th></th>\n",
              "      <th></th>\n",
              "      <th></th>\n",
              "      <th></th>\n",
              "      <th></th>\n",
              "      <th></th>\n",
              "      <th></th>\n",
              "    </tr>\n",
              "  </thead>\n",
              "  <tbody>\n",
              "    <tr>\n",
              "      <th>AA-10315</th>\n",
              "      <td>11</td>\n",
              "      <td>5563.560</td>\n",
              "      <td>44.527461</td>\n",
              "      <td>2014-03-31</td>\n",
              "      <td>2017-06-29</td>\n",
              "      <td>[Belkin 325VA UPS Surge Protector, 6', Avery B...</td>\n",
              "      <td>[Minneapolis, San Francisco, Round Rock, New Y...</td>\n",
              "    </tr>\n",
              "    <tr>\n",
              "      <th>AA-10375</th>\n",
              "      <td>15</td>\n",
              "      <td>1056.390</td>\n",
              "      <td>52.349415</td>\n",
              "      <td>2014-04-21</td>\n",
              "      <td>2017-12-11</td>\n",
              "      <td>[Sterilite Officeware Hinged File Box, Colored...</td>\n",
              "      <td>[Mesa, Omaha, Los Angeles, Salem, Atlanta, Ran...</td>\n",
              "    </tr>\n",
              "    <tr>\n",
              "      <th>AA-10480</th>\n",
              "      <td>12</td>\n",
              "      <td>1790.512</td>\n",
              "      <td>55.580242</td>\n",
              "      <td>2014-05-04</td>\n",
              "      <td>2017-04-15</td>\n",
              "      <td>[Xerox 1967, DAX Wood Document Frame, Strathmo...</td>\n",
              "      <td>[Concord, Middletown, Springfield, Detroit]</td>\n",
              "    </tr>\n",
              "    <tr>\n",
              "      <th>AA-10645</th>\n",
              "      <td>18</td>\n",
              "      <td>5086.935</td>\n",
              "      <td>42.364755</td>\n",
              "      <td>2014-06-22</td>\n",
              "      <td>2017-11-05</td>\n",
              "      <td>[Padded Folding Chairs, Black, 4/Carton, Panas...</td>\n",
              "      <td>[Chester, San Francisco, Georgetown, San Diego...</td>\n",
              "    </tr>\n",
              "    <tr>\n",
              "      <th>AB-10015</th>\n",
              "      <td>6</td>\n",
              "      <td>886.156</td>\n",
              "      <td>15.186975</td>\n",
              "      <td>2014-02-18</td>\n",
              "      <td>2016-11-10</td>\n",
              "      <td>[Global Push Button Manager's Chair, Indigo, N...</td>\n",
              "      <td>[Seattle, Arlington, Oklahoma City]</td>\n",
              "    </tr>\n",
              "    <tr>\n",
              "      <th>...</th>\n",
              "      <td>...</td>\n",
              "      <td>...</td>\n",
              "      <td>...</td>\n",
              "      <td>...</td>\n",
              "      <td>...</td>\n",
              "      <td>...</td>\n",
              "      <td>...</td>\n",
              "    </tr>\n",
              "    <tr>\n",
              "      <th>XP-21865</th>\n",
              "      <td>28</td>\n",
              "      <td>2374.658</td>\n",
              "      <td>53.799227</td>\n",
              "      <td>2014-01-20</td>\n",
              "      <td>2017-11-17</td>\n",
              "      <td>[Imation USB 2.0 Swivel Flash Drive USB flash ...</td>\n",
              "      <td>[San Diego, Everett, Chicago, Los Angeles, Pas...</td>\n",
              "    </tr>\n",
              "    <tr>\n",
              "      <th>YC-21895</th>\n",
              "      <td>8</td>\n",
              "      <td>5454.350</td>\n",
              "      <td>42.235317</td>\n",
              "      <td>2014-11-17</td>\n",
              "      <td>2017-12-26</td>\n",
              "      <td>[Hewlett Packard 610 Color Digital Copier / Pr...</td>\n",
              "      <td>[San Francisco, Los Angeles, Newark, Dallas, F...</td>\n",
              "    </tr>\n",
              "    <tr>\n",
              "      <th>YS-21880</th>\n",
              "      <td>12</td>\n",
              "      <td>6720.444</td>\n",
              "      <td>37.278442</td>\n",
              "      <td>2015-01-12</td>\n",
              "      <td>2017-12-21</td>\n",
              "      <td>[4009 Highlighters by Sanford, Letter Size Car...</td>\n",
              "      <td>[Burlington, Oakland, Newark, Seattle, Columbu...</td>\n",
              "    </tr>\n",
              "    <tr>\n",
              "      <th>ZC-21910</th>\n",
              "      <td>31</td>\n",
              "      <td>8025.707</td>\n",
              "      <td>7.780852</td>\n",
              "      <td>2014-10-13</td>\n",
              "      <td>2017-11-06</td>\n",
              "      <td>[i.Sound Portable Power - 8000 mAh, Xerox 225,...</td>\n",
              "      <td>[Salem, Edmonds, Miami, Houston, Los Angeles, ...</td>\n",
              "    </tr>\n",
              "    <tr>\n",
              "      <th>ZD-21925</th>\n",
              "      <td>9</td>\n",
              "      <td>1493.944</td>\n",
              "      <td>38.716008</td>\n",
              "      <td>2014-08-27</td>\n",
              "      <td>2017-06-11</td>\n",
              "      <td>[Newell 341, Cisco SPA 501G IP Phone, Wilson J...</td>\n",
              "      <td>[San Francisco, Chattanooga, Jacksonville, Ric...</td>\n",
              "    </tr>\n",
              "  </tbody>\n",
              "</table>\n",
              "<p>793 rows × 7 columns</p>\n",
              "</div>"
            ],
            "text/plain": [
              "             #Purchases  ...                                     Location_Count\n",
              "Customer ID              ...                                                   \n",
              "AA-10315             11  ...  [Minneapolis, San Francisco, Round Rock, New Y...\n",
              "AA-10375             15  ...  [Mesa, Omaha, Los Angeles, Salem, Atlanta, Ran...\n",
              "AA-10480             12  ...        [Concord, Middletown, Springfield, Detroit]\n",
              "AA-10645             18  ...  [Chester, San Francisco, Georgetown, San Diego...\n",
              "AB-10015              6  ...                [Seattle, Arlington, Oklahoma City]\n",
              "...                 ...  ...                                                ...\n",
              "XP-21865             28  ...  [San Diego, Everett, Chicago, Los Angeles, Pas...\n",
              "YC-21895              8  ...  [San Francisco, Los Angeles, Newark, Dallas, F...\n",
              "YS-21880             12  ...  [Burlington, Oakland, Newark, Seattle, Columbu...\n",
              "ZC-21910             31  ...  [Salem, Edmonds, Miami, Houston, Los Angeles, ...\n",
              "ZD-21925              9  ...  [San Francisco, Chattanooga, Jacksonville, Ric...\n",
              "\n",
              "[793 rows x 7 columns]"
            ]
          },
          "metadata": {
            "tags": []
          },
          "execution_count": 76
        }
      ]
    },
    {
      "cell_type": "code",
      "metadata": {
        "colab": {
          "base_uri": "https://localhost:8080/"
        },
        "id": "R1rowJpZD7RA",
        "outputId": "10406304-a223-4c0a-a16d-a813b2545d68"
      },
      "source": [
        "df['order year']=df['Order Date'].dt.year\n",
        "df['order year'].head()"
      ],
      "execution_count": null,
      "outputs": [
        {
          "output_type": "execute_result",
          "data": {
            "text/plain": [
              "0    2016\n",
              "1    2016\n",
              "2    2016\n",
              "3    2015\n",
              "4    2015\n",
              "Name: order year, dtype: int64"
            ]
          },
          "metadata": {
            "tags": []
          },
          "execution_count": 77
        }
      ]
    },
    {
      "cell_type": "code",
      "metadata": {
        "colab": {
          "base_uri": "https://localhost:8080/",
          "height": 497
        },
        "id": "bMG926LFEA6Q",
        "outputId": "17c0a385-a0da-491f-c5dc-050bf7f50cf6"
      },
      "source": [
        "fig=plt.figure(figsize=(16,8))\n",
        "ax = fig.add_subplot(111)\n",
        "sns.barplot('order year','Profit %',hue='Sub-Category',palette='Paired',data=df)\n",
        "for o in ax.patches:\n",
        "    ax.annotate('{:.0f}'.format(o.get_height()), (o.get_x()+0.15, o.get_height()+1))\n",
        "plt.show()\n"
      ],
      "execution_count": null,
      "outputs": [
        {
          "output_type": "display_data",
          "data": {
            "image/png": "[encoded data removed]",
            "text/plain": [
              "<Figure size 1152x576 with 1 Axes>"
            ]
          },
          "metadata": {
            "tags": [],
            "needs_background": "light"
          }
        }
      ]
    },
    {
      "cell_type": "code",
      "metadata": {
        "colab": {
          "base_uri": "https://localhost:8080/",
          "height": 328
        },
        "id": "bFxeZxLME-C3",
        "outputId": "3533b04e-40f4-4f77-c795-aed890c69b10"
      },
      "source": [
        "df.groupby('order year')['Sales','Profit %'].agg(['sum']).plot.bar()\n",
        "plt.title('Year wise Total Sales & % of profit gained')"
      ],
      "execution_count": null,
      "outputs": [
        {
          "output_type": "execute_result",
          "data": {
            "text/plain": [
              "Text(0.5, 1.0, 'Year wise Total Sales & % of profit gained')"
            ]
          },
          "metadata": {
            "tags": []
          },
          "execution_count": 79
        },
        {
          "output_type": "display_data",
          "data": {
            "image/png": "[encoded data removed]",
            "text/plain": [
              "<Figure size 432x288 with 1 Axes>"
            ]
          },
          "metadata": {
            "tags": [],
            "needs_background": "light"
          }
        }
      ]
    }
  ]
}